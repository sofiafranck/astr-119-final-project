{
 "cells": [
  {
   "cell_type": "markdown",
   "id": "5cad9c5e",
   "metadata": {},
   "source": [
    "# Background Subtraction\n",
    "### We measure the spatially varying background and noise in the image"
   ]
  },
  {
   "cell_type": "code",
   "execution_count": null,
   "id": "f4cabee9",
   "metadata": {},
   "outputs": [],
   "source": [
    "bkgf = sep.Background(dataf, bw=64, bh=64, fw=3, fh=3)"
   ]
  },
  {
   "cell_type": "markdown",
   "id": "69cb6e76",
   "metadata": {},
   "source": [
    "### Find the global mean and noise of the image background data"
   ]
  },
  {
   "cell_type": "code",
   "execution_count": null,
   "id": "06227e8a",
   "metadata": {},
   "outputs": [],
   "source": [
    "#find the average background level\n",
    "print(bkgf.globalback)\n",
    "\n",
    "#find the average RMS of the background\n",
    "print(bkgf.globalrms)"
   ]
  },
  {
   "cell_type": "markdown",
   "id": "8d929c6d",
   "metadata": {},
   "source": [
    "### Convert the the background back into a 2-d array"
   ]
  },
  {
   "cell_type": "code",
   "execution_count": null,
   "id": "a66c20fe",
   "metadata": {},
   "outputs": [],
   "source": [
    "#turn bkg into a 2-D array, which is of the same shape and type as the original data\n",
    "bkg_imagef = bkgf.back()"
   ]
  },
  {
   "cell_type": "markdown",
   "id": "e30bc2e9",
   "metadata": {},
   "source": [
    "### Plot the background and save the image as a png"
   ]
  },
  {
   "cell_type": "code",
   "execution_count": null,
   "id": "17d9bb44",
   "metadata": {},
   "outputs": [],
   "source": [
    "plt.imshow(bkg_imagef, interpolation='nearest', cmap='gray', origin='lower')\n",
    "plt.colorbar();\n",
    "plt.savefig('f105w_2.png')"
   ]
  },
  {
   "cell_type": "markdown",
   "id": "b0c71a2d",
   "metadata": {},
   "source": [
    "### Convert the background noise back into a 2-d array"
   ]
  },
  {
   "cell_type": "code",
   "execution_count": null,
   "id": "5a39ce6f",
   "metadata": {},
   "outputs": [],
   "source": [
    "#turn bkg RMS into a 2-D array, which is of the same shape and type as the original data\n",
    "bkg_rmsf = bkgf.rms()"
   ]
  },
  {
   "cell_type": "markdown",
   "id": "16fbaa10",
   "metadata": {},
   "source": [
    "### Plot the background noise and save image as a png"
   ]
  },
  {
   "cell_type": "code",
   "execution_count": null,
   "id": "96d1335d",
   "metadata": {},
   "outputs": [],
   "source": [
    "plt.imshow(bkg_rmsf, interpolation='nearest', cmap='gray', origin='lower')\n",
    "plt.colorbar();\n",
    "plt.savefig('f105w_3.png')"
   ]
  },
  {
   "cell_type": "markdown",
   "id": "c7a9c81b",
   "metadata": {},
   "source": [
    "### Now, we subtract the background from the inital data"
   ]
  },
  {
   "cell_type": "code",
   "execution_count": null,
   "id": "25caf8c2",
   "metadata": {},
   "outputs": [],
   "source": [
    "data_subf = dataf - bkgf"
   ]
  }
 ],
 "metadata": {
  "kernelspec": {
   "display_name": "Python 3 (ipykernel)",
   "language": "python",
   "name": "python3"
  },
  "language_info": {
   "codemirror_mode": {
    "name": "ipython",
    "version": 3
   },
   "file_extension": ".py",
   "mimetype": "text/x-python",
   "name": "python",
   "nbconvert_exporter": "python",
   "pygments_lexer": "ipython3",
   "version": "3.9.7"
  }
 },
 "nbformat": 4,
 "nbformat_minor": 5
}
