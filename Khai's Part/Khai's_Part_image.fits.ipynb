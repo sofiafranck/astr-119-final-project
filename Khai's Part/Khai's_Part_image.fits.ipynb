{
 "cells": [
  {
   "cell_type": "markdown",
   "id": "46c1272c",
   "metadata": {},
   "source": [
    "# Background Subtraction\n",
    "### We measure the spatially varying background and noise in the image"
   ]
  },
  {
   "cell_type": "code",
   "execution_count": null,
   "id": "9a376a7a",
   "metadata": {},
   "outputs": [],
   "source": [
    "bkg = sep.Background(data, bw=64, bh=64, fw=3, fh=3)"
   ]
  },
  {
   "cell_type": "markdown",
   "id": "bba15dd5",
   "metadata": {},
   "source": [
    "### Find the global mean and noise of the image background data"
   ]
  },
  {
   "cell_type": "code",
   "execution_count": null,
   "id": "18ff3629",
   "metadata": {},
   "outputs": [],
   "source": [
    "#find the average background level\n",
    "print(bkg.globalback)\n",
    "\n",
    "#find the average RMS of the background\n",
    "print(bkg.globalrms)"
   ]
  },
  {
   "cell_type": "markdown",
   "id": "85e5cd0d",
   "metadata": {},
   "source": [
    "### Convert the the background back into a 2-d array"
   ]
  },
  {
   "cell_type": "code",
   "execution_count": null,
   "id": "465f5a2f",
   "metadata": {},
   "outputs": [],
   "source": [
    "#turn bkg into a 2-D array, which is of the same shape and type as the original data\n",
    "bkg_image = bkg.back()"
   ]
  },
  {
   "cell_type": "markdown",
   "id": "5d6e7c4d",
   "metadata": {},
   "source": [
    "### Plot the background and save the image as a png"
   ]
  },
  {
   "cell_type": "code",
   "execution_count": null,
   "id": "95cdd51c",
   "metadata": {},
   "outputs": [],
   "source": [
    "plt.imshow(bkg_image, interpolation='nearest', cmap='gray', origin='lower')\n",
    "plt.colorbar();\n",
    "plt.savefig('tutorial_image_2.png')"
   ]
  },
  {
   "cell_type": "markdown",
   "id": "affb21ff",
   "metadata": {},
   "source": [
    "### Convert the background noise back into a 2-d array"
   ]
  },
  {
   "cell_type": "code",
   "execution_count": null,
   "id": "b4456da0",
   "metadata": {},
   "outputs": [],
   "source": [
    "#turn bkg RMS into a 2-D array, which is of the same shape and type as the original data\n",
    "bkg_rms = bkg.rms()"
   ]
  },
  {
   "cell_type": "markdown",
   "id": "2f302045",
   "metadata": {},
   "source": [
    "### Plot the background noise and save image as a png"
   ]
  },
  {
   "cell_type": "code",
   "execution_count": null,
   "id": "9d0826db",
   "metadata": {},
   "outputs": [],
   "source": [
    "plt.imshow(bkg_rms, interpolation='nearest', cmap='gray', origin='lower')\n",
    "plt.colorbar();\n",
    "plt.savefig('tutorial_image_3.png')"
   ]
  },
  {
   "cell_type": "markdown",
   "id": "11b79147",
   "metadata": {},
   "source": [
    "### Now, we subtract the background from the inital data"
   ]
  },
  {
   "cell_type": "code",
   "execution_count": null,
   "id": "d1ef72d7",
   "metadata": {},
   "outputs": [],
   "source": [
    "data_sub = data - bkg"
   ]
  }
 ],
 "metadata": {
  "kernelspec": {
   "display_name": "Python 3 (ipykernel)",
   "language": "python",
   "name": "python3"
  },
  "language_info": {
   "codemirror_mode": {
    "name": "ipython",
    "version": 3
   },
   "file_extension": ".py",
   "mimetype": "text/x-python",
   "name": "python",
   "nbconvert_exporter": "python",
   "pygments_lexer": "ipython3",
   "version": "3.9.7"
  }
 },
 "nbformat": 4,
 "nbformat_minor": 5
}
