{
 "cells": [
  {
   "cell_type": "markdown",
   "id": "e9434057",
   "metadata": {},
   "source": [
    "# Object Detection"
   ]
  },
  {
   "cell_type": "markdown",
   "id": "dcd1a7e4",
   "metadata": {},
   "source": [
    "### Run an object detection on the background subtracted data. Control the detection threshold to a constant value using sep.extract."
   ]
  },
  {
   "cell_type": "code",
   "execution_count": null,
   "id": "d32db711",
   "metadata": {},
   "outputs": [],
   "source": [
    "objectsf = sep.extract(data_subf, 1.5, err=bkgf.globalrms)"
   ]
  },
  {
   "cell_type": "markdown",
   "id": "095c25a8",
   "metadata": {},
   "source": [
    "### Return the length of objects detected. (count how many objects were detected)"
   ]
  },
  {
   "cell_type": "code",
   "execution_count": null,
   "id": "5da409a3",
   "metadata": {},
   "outputs": [],
   "source": [
    "len(objectsf)"
   ]
  },
  {
   "cell_type": "markdown",
   "id": "76111eed",
   "metadata": {},
   "source": [
    "### Check locations of detected objects by over-plotting the object coordinates with an ellipse.\n",
    "Use matplotlib.patches to plot an ellipse"
   ]
  },
  {
   "cell_type": "code",
   "execution_count": null,
   "id": "7e92325c",
   "metadata": {},
   "outputs": [],
   "source": [
    "from matplotlib.patches import Ellipse"
   ]
  },
  {
   "cell_type": "markdown",
   "id": "c8b3c214",
   "metadata": {},
   "source": [
    "### Plot the background-subtracted image with an ellipse highlighting each object."
   ]
  },
  {
   "cell_type": "code",
   "execution_count": null,
   "id": "be7ce8ce",
   "metadata": {},
   "outputs": [],
   "source": [
    "figf, axf = plt.subplots()\n",
    "mf, sf = np.mean(data_subf), np.std(data_subf)\n",
    "imf = axf.imshow(data_subf, interpolation='nearest',cmap='gray',vmin=mf-sf,vmax=mf+sf,origin='lower')\n",
    "\n",
    "for i in range(len(objectsf)):\n",
    "    ef = Ellipse(xy=(objectsf['x'][i], objectsf['y'][i]), width=6*objectsf['a'][i], height=6*objectsf['b'][i], angle=objectsf['theta'][i] * 180. / np.pi)\n",
    "    ef.set_facecolor('none')\n",
    "    ef.set_edgecolor('red')\n",
    "    axf.add_artist(ef)\n",
    "plt.savefig('f105w_image_4.png')"
   ]
  },
  {
   "cell_type": "markdown",
   "id": "e516fc1f",
   "metadata": {},
   "source": [
    "### Show the extracted object parameter fields."
   ]
  },
  {
   "cell_type": "code",
   "execution_count": null,
   "id": "d27cfb36",
   "metadata": {},
   "outputs": [],
   "source": [
    "objectsf.dtype.names"
   ]
  }
 ],
 "metadata": {
  "kernelspec": {
   "display_name": "Python 3 (ipykernel)",
   "language": "python",
   "name": "python3"
  },
  "language_info": {
   "codemirror_mode": {
    "name": "ipython",
    "version": 3
   },
   "file_extension": ".py",
   "mimetype": "text/x-python",
   "name": "python",
   "nbconvert_exporter": "python",
   "pygments_lexer": "ipython3",
   "version": "3.9.7"
  }
 },
 "nbformat": 4,
 "nbformat_minor": 5
}
