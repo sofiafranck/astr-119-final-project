{
 "cells": [
  {
   "cell_type": "markdown",
   "id": "1fedad8c",
   "metadata": {},
   "source": [
    "# Object Detection"
   ]
  },
  {
   "cell_type": "markdown",
   "id": "e044a323",
   "metadata": {},
   "source": [
    "### Run an object detection on the background subtracted data. Control the detection threshold to a constant value using sep.extract."
   ]
  },
  {
   "cell_type": "code",
   "execution_count": null,
   "id": "16d1afc5",
   "metadata": {},
   "outputs": [],
   "source": [
    "objects = sep.extract(data_sub, 1.5, err=bkg.globalrms)"
   ]
  },
  {
   "cell_type": "markdown",
   "id": "b31a1404",
   "metadata": {},
   "source": [
    "### Return the length of objects detected. (count how many objects were detected)"
   ]
  },
  {
   "cell_type": "code",
   "execution_count": null,
   "id": "e1bdaa83",
   "metadata": {},
   "outputs": [],
   "source": [
    "len(objects)"
   ]
  },
  {
   "cell_type": "markdown",
   "id": "1df1fcfb",
   "metadata": {},
   "source": [
    "### Check locations of detected objects by over-plotting the object coordinates with an ellipse.\n",
    "Use matplotlib.patches to plot an ellipse"
   ]
  },
  {
   "cell_type": "code",
   "execution_count": null,
   "id": "92618ec1",
   "metadata": {},
   "outputs": [],
   "source": [
    "from matplotlib.patches import Ellipse"
   ]
  },
  {
   "cell_type": "markdown",
   "id": "a583a419",
   "metadata": {},
   "source": [
    "### Plot the background-subtracted image with an ellipse highlighting each object."
   ]
  },
  {
   "cell_type": "code",
   "execution_count": null,
   "id": "56f753f4",
   "metadata": {},
   "outputs": [],
   "source": [
    "fig, ax = plt.subplots()\n",
    "m, s = np.mean(data_sub), np.std(data_sub)\n",
    "im = ax.imshow(data_sub, interpolation='nearest',cmap='gray',vmin=m-s,vmax=m+s,origin='lower')\n",
    "\n",
    "for i in range(len(objects)):\n",
    "    e = Ellipse(xy=(objects['x'][i], objects['y'][i]), width=6*objects['a'][i], height=6*objects['b'][i], angle=objects['theta'][i] * 180. / np.pi)\n",
    "    e.set_facecolor('none')\n",
    "    e.set_edgecolor('red')\n",
    "    ax.add_artist(e)\n",
    "plt.savefig('f105w_image_4.png')"
   ]
  },
  {
   "cell_type": "markdown",
   "id": "ba954488",
   "metadata": {},
   "source": [
    "### Show the extracted object parameter fields."
   ]
  },
  {
   "cell_type": "code",
   "execution_count": null,
   "id": "2cdee771",
   "metadata": {},
   "outputs": [],
   "source": [
    "objects.dtype.names"
   ]
  }
 ],
 "metadata": {
  "kernelspec": {
   "display_name": "Python 3 (ipykernel)",
   "language": "python",
   "name": "python3"
  },
  "language_info": {
   "codemirror_mode": {
    "name": "ipython",
    "version": 3
   },
   "file_extension": ".py",
   "mimetype": "text/x-python",
   "name": "python",
   "nbconvert_exporter": "python",
   "pygments_lexer": "ipython3",
   "version": "3.9.7"
  }
 },
 "nbformat": 4,
 "nbformat_minor": 5
}
