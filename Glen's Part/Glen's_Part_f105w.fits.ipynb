{
 "cells": [
  {
   "cell_type": "code",
   "execution_count": null,
   "id": "a95a144e",
   "metadata": {},
   "outputs": [],
   "source": [
    "fname1= \"f105w.fits\"\n",
    "dataf=fits.getdata(fname1)\n",
    "dataf = dataf.byteswap(inplace=True).newbyteorder()\n",
    "mf, sf = np.mean(dataf), np.std(dataf)\n",
    "plt.imshow(dataf, interpolation='nearest', cmap='gray', vmin=mf-sf, vmax=mf+sf, origin='lower')\n",
    "plt.colorbar()\n",
    "plt.savefig('f105w_1.png')"
   ]
  },
  {
   "cell_type": "code",
   "execution_count": null,
   "id": "d280f1c5",
   "metadata": {},
   "outputs": [],
   "source": []
  }
 ],
 "metadata": {
  "kernelspec": {
   "display_name": "Python 3 (ipykernel)",
   "language": "python",
   "name": "python3"
  },
  "language_info": {
   "codemirror_mode": {
    "name": "ipython",
    "version": 3
   },
   "file_extension": ".py",
   "mimetype": "text/x-python",
   "name": "python",
   "nbconvert_exporter": "python",
   "pygments_lexer": "ipython3",
   "version": "3.9.7"
  }
 },
 "nbformat": 4,
 "nbformat_minor": 5
}
