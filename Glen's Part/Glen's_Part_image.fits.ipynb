{
 "cells": [
  {
   "cell_type": "markdown",
   "id": "466d03c4",
   "metadata": {},
   "source": [
    "## Importing the libraries we need"
   ]
  },
  {
   "cell_type": "code",
   "execution_count": null,
   "id": "a2051aad",
   "metadata": {},
   "outputs": [],
   "source": [
    "%matplotlib inline\n",
    "import numpy as np\n",
    "import matplotlib.pyplot as plt\n",
    "from astropy.io import fits\n",
    "from matplotlib import rcParams\n",
    "import sep as sep\n",
    "\n",
    "rcParams['figure.figsize'] = [10., 8.]"
   ]
  },
  {
   "cell_type": "markdown",
   "id": "8129ee53",
   "metadata": {},
   "source": [
    "## Importing the example fits data saving image as png file."
   ]
  },
  {
   "cell_type": "code",
   "execution_count": null,
   "id": "081f68c5",
   "metadata": {},
   "outputs": [],
   "source": [
    "fname= \"image.fits\"\n",
    "data=fits.getdata(fname)\n",
    "m, s = np.mean(data), np.std(data)\n",
    "plt.imshow(data, interpolation='nearest', cmap='gray', vmin=m-s, vmax=m+s, origin='lower')\n",
    "plt.colorbar()\n",
    "plt.savefig('tutorial_image_1.png')"
   ]
  }
 ],
 "metadata": {
  "kernelspec": {
   "display_name": "Python 3 (ipykernel)",
   "language": "python",
   "name": "python3"
  },
  "language_info": {
   "codemirror_mode": {
    "name": "ipython",
    "version": 3
   },
   "file_extension": ".py",
   "mimetype": "text/x-python",
   "name": "python",
   "nbconvert_exporter": "python",
   "pygments_lexer": "ipython3",
   "version": "3.9.7"
  }
 },
 "nbformat": 4,
 "nbformat_minor": 5
}
