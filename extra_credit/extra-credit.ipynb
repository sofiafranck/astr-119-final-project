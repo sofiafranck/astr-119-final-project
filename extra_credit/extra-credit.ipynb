{
 "cells": [
  {
   "cell_type": "code",
   "execution_count": null,
   "id": "d4ce9348",
   "metadata": {},
   "outputs": [],
   "source": [
    "import matplotlib.pyplot as plt\n",
    "from matplotlib import rcParams\n",
    "from astropy.visualization import make_lupton_rgb\n",
    "from astropy.io import fits\n",
    "from astropy.utils.data import get_pkg_data_filename"
   ]
  },
  {
   "cell_type": "code",
   "execution_count": null,
   "id": "f7fad2cd",
   "metadata": {},
   "outputs": [],
   "source": [
    "d105 = fits.getdata('f105w.fits')\n",
    "d125 = fits.getdata('f125w.fits')\n",
    "d160 = fits.getdata('f160w.fits')"
   ]
  },
  {
   "cell_type": "code",
   "execution_count": null,
   "id": "bf3ecefb",
   "metadata": {},
   "outputs": [],
   "source": [
    "rgb = make_lupton_rgb(d105,d125,d160, Q=6, stretch=0.03)\n",
    "plt.imshow(rgb,origin='lower')\n",
    "rcParams[\"figure.figsize\"] = [7., 5.]\n",
    "rcParams[\"figure.dpi\"] = 500\n",
    "plt.savefig('extra_credit_image.png')"
   ]
  }
 ],
 "metadata": {
  "kernelspec": {
   "display_name": "Python 3 (ipykernel)",
   "language": "python",
   "name": "python3"
  },
  "language_info": {
   "codemirror_mode": {
    "name": "ipython",
    "version": 3
   },
   "file_extension": ".py",
   "mimetype": "text/x-python",
   "name": "python",
   "nbconvert_exporter": "python",
   "pygments_lexer": "ipython3",
   "version": "3.9.6"
  }
 },
 "nbformat": 4,
 "nbformat_minor": 5
}
