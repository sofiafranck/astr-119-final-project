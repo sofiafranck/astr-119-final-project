{
 "cells": [
  {
   "cell_type": "markdown",
   "id": "114bc072",
   "metadata": {},
   "source": [
    "## Aperature photometry"
   ]
  },
  {
   "cell_type": "markdown",
   "id": "833f7eda",
   "metadata": {},
   "source": [
    "### The next function uses aperature photometry to calculate the flux of each detected object. The function creates a circle around each object and measures the amount light detected."
   ]
  },
  {
   "cell_type": "code",
   "execution_count": null,
   "id": "dd34a25d",
   "metadata": {},
   "outputs": [],
   "source": [
    "fluxf, fluxerrf, flagf = sep.sum_circle(data_subf, objectsf['x'], objectsf['y'], 3.0, err=bkgf.globalrms, gain=1.0)"
   ]
  },
  {
   "cell_type": "markdown",
   "id": "23a58d8a",
   "metadata": {},
   "source": [
    "### After creating the function to find the flux, we can then print the calculated fluxes for the first 10 objects."
   ]
  },
  {
   "cell_type": "code",
   "execution_count": null,
   "id": "d493a73e",
   "metadata": {},
   "outputs": [],
   "source": [
    "for i in range(10):\n",
    "    print(\"objectf {:d}: flux = {:f} +/- {:f}\".format(i, fluxf[i], fluxerrf[i]))\n",
    "flux_max=np.max(fluxf)\n",
    "print(flux_max)"
   ]
  },
  {
   "cell_type": "markdown",
   "id": "eef80afe",
   "metadata": {},
   "source": [
    "## Histogram"
   ]
  },
  {
   "cell_type": "markdown",
   "id": "d19d9132",
   "metadata": {},
   "source": [
    "### Lastly, we can create a histogram of the calculated fluxes from all of the objects detected."
   ]
  },
  {
   "cell_type": "markdown",
   "id": "624bf0ad",
   "metadata": {},
   "source": [
    "Most of the fluxes calculated for this image were less than one. There were only a few fluxes that were greater than 1. Because of this, we decided to keep the range of our histogram small, so that more of the data could be shown."
   ]
  },
  {
   "cell_type": "code",
   "execution_count": null,
   "id": "783b72bb",
   "metadata": {},
   "outputs": [],
   "source": [
    "histogram=plt.hist(fluxf.flatten(), bins='auto', range=(0,1))"
   ]
  },
  {
   "cell_type": "code",
   "execution_count": null,
   "id": "17e06e67",
   "metadata": {},
   "outputs": [],
   "source": []
  }
 ],
 "metadata": {
  "kernelspec": {
   "display_name": "Python 3 (ipykernel)",
   "language": "python",
   "name": "python3"
  },
  "language_info": {
   "codemirror_mode": {
    "name": "ipython",
    "version": 3
   },
   "file_extension": ".py",
   "mimetype": "text/x-python",
   "name": "python",
   "nbconvert_exporter": "python",
   "pygments_lexer": "ipython3",
   "version": "3.9.6"
  }
 },
 "nbformat": 4,
 "nbformat_minor": 5
}
