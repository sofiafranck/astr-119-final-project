{
 "cells": [
  {
   "cell_type": "markdown",
   "id": "66285f2b",
   "metadata": {},
   "source": [
    "## Aperature photometry"
   ]
  },
  {
   "cell_type": "markdown",
   "id": "c02d0a3d",
   "metadata": {},
   "source": [
    "### The next function uses aperature photometry to calculate the flux of each detected object. The function creates a circle around each object and measures the amount light detected."
   ]
  },
  {
   "cell_type": "code",
   "execution_count": null,
   "id": "4ab2883a",
   "metadata": {},
   "outputs": [],
   "source": [
    "flux, fluxerr, flag = sep.sum_circle(data_sub, objects['x'], objects['y'], 3.0, err=bkg.globalrms, gain=1.0)"
   ]
  },
  {
   "cell_type": "markdown",
   "id": "b89f9e33",
   "metadata": {},
   "source": [
    "### After creating the function to find the flux, we can then print the calculated fluxes for the first 10 objects."
   ]
  },
  {
   "cell_type": "code",
   "execution_count": null,
   "id": "2c6b961d",
   "metadata": {},
   "outputs": [],
   "source": [
    "for i in range(10):\n",
    "    print(\"object {:d}: flux = {:f} +/- {:f}\".format(i, flux[i], fluxerr[i]))"
   ]
  },
  {
   "cell_type": "markdown",
   "id": "d8506728",
   "metadata": {},
   "source": [
    "## Historgram"
   ]
  },
  {
   "cell_type": "markdown",
   "id": "d173309b",
   "metadata": {},
   "source": [
    "### Lastly, we can create a histogram of the calculated fluxes from all of the objects detected."
   ]
  },
  {
   "cell_type": "code",
   "execution_count": null,
   "id": "a2d507d6",
   "metadata": {},
   "outputs": [],
   "source": [
    "histogram=plt.hist(flux.flatten(), bins='auto')"
   ]
  }
 ],
 "metadata": {
  "kernelspec": {
   "display_name": "Python 3 (ipykernel)",
   "language": "python",
   "name": "python3"
  },
  "language_info": {
   "codemirror_mode": {
    "name": "ipython",
    "version": 3
   },
   "file_extension": ".py",
   "mimetype": "text/x-python",
   "name": "python",
   "nbconvert_exporter": "python",
   "pygments_lexer": "ipython3",
   "version": "3.9.6"
  }
 },
 "nbformat": 4,
 "nbformat_minor": 5
}
